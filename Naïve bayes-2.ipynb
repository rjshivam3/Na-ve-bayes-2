{
 "cells": [
  {
   "cell_type": "markdown",
   "id": "ccd26456-5c83-44f2-b443-64966802dce6",
   "metadata": {},
   "source": [
    "## Q1. A company conducted a survey of its employees and found that 70% of the employees use the company's health insurance plan, while 40% of the employees who use the plan are smokers. What is the probability that an employee is a smoker given that he/she uses the health insurance plan?\n"
   ]
  },
  {
   "cell_type": "markdown",
   "id": "101fb2e0-0e87-4ba2-8702-2ae9f3d84bda",
   "metadata": {},
   "source": [
    "To find the probability that an employee is a smoker given that they use the health insurance plan, we can use Bayes' theorem.\n",
    "\n",
    "Let:\n",
    "- \\( P(A) \\) be the probability that an employee uses the health insurance plan = 0.70\n",
    "- \\( P(B|A) \\) be the probability that an employee is a smoker given that they use the health insurance plan = 0.40\n",
    "\n",
    "We want to find \\( P(B|A) \\), which is already given as 0.40. Therefore, the probability that an employee is a smoker given that they use the health insurance plan is 40%.\n"
   ]
  },
  {
   "cell_type": "markdown",
   "id": "5a422135-c427-4da2-9e4d-bf9c87947c82",
   "metadata": {},
   "source": [
    "## Q2. What is the difference between Bernoulli Naive Bayes and Multinomial Naive Bayes?\n"
   ]
  },
  {
   "cell_type": "markdown",
   "id": "a70d0220-ed4a-405e-894f-c847d6b1312f",
   "metadata": {},
   "source": [
    "The main differences between Bernoulli Naive Bayes and Multinomial Naive Bayes are:\n",
    "\n",
    "- **Bernoulli Naive Bayes**: This classifier is used for binary/boolean features. It assumes that features are binary (i.e., presence or absence of a feature). It is useful when the features represent the presence or absence of some property or event.\n",
    "\n",
    "- **Multinomial Naive Bayes**: This classifier is used for discrete features that represent counts or frequencies (e.g., word counts in text classification). It is based on the multinomial distribution and is useful when the features are counts or when the features can take on multiple values.\n"
   ]
  },
  {
   "cell_type": "markdown",
   "id": "57ad6b91-6c35-41ef-8b3b-1ccfed3ae14f",
   "metadata": {},
   "source": [
    "## Q3. How does Bernoulli Naive Bayes handle missing values?\n"
   ]
  },
  {
   "cell_type": "markdown",
   "id": "97ac95e3-9b03-417a-9f82-31070682d4ed",
   "metadata": {},
   "source": [
    "Bernoulli Naive Bayes does not have a built-in mechanism to handle missing values. Typically, missing values are handled by either imputing them (e.g., filling with the mean or median value) or by removing the records with missing values before applying the Bernoulli Naive Bayes classifier. Proper handling of missing values is important to ensure accurate classification results.\n"
   ]
  },
  {
   "cell_type": "markdown",
   "id": "e68f59cb-1dda-4692-809d-86f43746fe5c",
   "metadata": {},
   "source": [
    "## Q4. Can Gaussian Naive Bayes be used for multi-class classification?\n"
   ]
  },
  {
   "cell_type": "markdown",
   "id": "48e78f21-e2c8-4375-b276-e44d9c56cd42",
   "metadata": {},
   "source": [
    "Yes, Gaussian Naive Bayes can be used for multi-class classification. It is capable of handling multiple classes by modeling the feature distribution for each class using a Gaussian (normal) distribution. The classifier computes the probability of each class given the features and selects the class with the highest posterior probability. This makes it suitable for problems where there are more than two classes.\n"
   ]
  },
  {
   "cell_type": "markdown",
   "id": "aa72b728-76ae-4bbf-9c58-85ff925d2ea4",
   "metadata": {},
   "source": [
    "## Q5. Implementation\n",
    "\n",
    "### Data Preparation\n"
   ]
  },
  {
   "cell_type": "code",
   "execution_count": 2,
   "id": "52b0378e-8958-45e5-be98-5106a978fdb6",
   "metadata": {},
   "outputs": [
    {
     "data": {
      "text/plain": [
       "((3680, 57), (921, 57))"
      ]
     },
     "execution_count": 2,
     "metadata": {},
     "output_type": "execute_result"
    }
   ],
   "source": [
    "import pandas as pd\n",
    "from sklearn.model_selection import train_test_split\n",
    "from sklearn.preprocessing import StandardScaler\n",
    "from sklearn.naive_bayes import BernoulliNB, MultinomialNB, GaussianNB\n",
    "from sklearn.model_selection import cross_val_score\n",
    "from sklearn.metrics import accuracy_score, precision_score, recall_score, f1_score\n",
    "\n",
    "url = \"https://archive.ics.uci.edu/ml/machine-learning-databases/spambase/spambase.data\"\n",
    "column_names = [f'feature_{i}' for i in range(57)] + ['label']\n",
    "data = pd.read_csv(url, header=None, names=column_names)\n",
    "\n",
    "X = data.iloc[:, :-1]\n",
    "y = data.iloc[:, -1]\n",
    "\n",
    "X_train, X_test, y_train, y_test = train_test_split(X, y, test_size=0.2, random_state=42)\n",
    "\n",
    "X_train.shape, X_test.shape\n"
   ]
  },
  {
   "cell_type": "markdown",
   "id": "8de3ca2f-1cfb-4e0f-ad01-fb2ece175809",
   "metadata": {},
   "source": [
    "### Implementation\n"
   ]
  },
  {
   "cell_type": "code",
   "execution_count": 3,
   "id": "144fa9da-3764-4322-b2f1-e2c29a14b6f8",
   "metadata": {},
   "outputs": [
    {
     "data": {
      "text/plain": [
       "(0.8853260869565217, 0.7918478260869566, 0.8206521739130433)"
      ]
     },
     "execution_count": 3,
     "metadata": {},
     "output_type": "execute_result"
    }
   ],
   "source": [
    "bernoulli_nb = BernoulliNB()\n",
    "multinomial_nb = MultinomialNB()\n",
    "gaussian_nb = GaussianNB()\n",
    "\n",
    "def evaluate_classifier(classifier, X, y):\n",
    "    scores = cross_val_score(classifier, X, y, cv=10, scoring='accuracy')\n",
    "    return scores.mean()\n",
    "\n",
    "accuracy_bernoulli = evaluate_classifier(bernoulli_nb, X_train, y_train)\n",
    "accuracy_multinomial = evaluate_classifier(multinomial_nb, X_train, y_train)\n",
    "accuracy_gaussian = evaluate_classifier(gaussian_nb, X_train, y_train)\n",
    "\n",
    "accuracy_bernoulli, accuracy_multinomial, accuracy_gaussian\n"
   ]
  },
  {
   "cell_type": "markdown",
   "id": "9246b2b1-a1d5-4959-832e-b7a7d5010b79",
   "metadata": {},
   "source": [
    "### Results\n"
   ]
  },
  {
   "cell_type": "code",
   "execution_count": 4,
   "id": "e6cf122b-d54e-43b1-b1ce-fbc380a68b77",
   "metadata": {},
   "outputs": [
    {
     "data": {
      "text/plain": [
       "({'Accuracy': 0.8805646036916395,\n",
       "  'Precision': 0.9069767441860465,\n",
       "  'Recall': 0.8,\n",
       "  'F1 Score': 0.8501362397820164},\n",
       " {'Accuracy': 0.7861020629750272,\n",
       "  'Precision': 0.7643835616438356,\n",
       "  'Recall': 0.7153846153846154,\n",
       "  'F1 Score': 0.7390728476821192},\n",
       " {'Accuracy': 0.8208469055374593,\n",
       "  'Precision': 0.7192982456140351,\n",
       "  'Recall': 0.9461538461538461,\n",
       "  'F1 Score': 0.8172757475083057})"
      ]
     },
     "execution_count": 4,
     "metadata": {},
     "output_type": "execute_result"
    }
   ],
   "source": [
    "bernoulli_nb.fit(X_train, y_train)\n",
    "multinomial_nb.fit(X_train, y_train)\n",
    "gaussian_nb.fit(X_train, y_train)\n",
    "\n",
    "y_pred_bernoulli = bernoulli_nb.predict(X_test)\n",
    "y_pred_multinomial = multinomial_nb.predict(X_test)\n",
    "y_pred_gaussian = gaussian_nb.predict(X_test)\n",
    "\n",
    "def performance_metrics(y_true, y_pred):\n",
    "    return {\n",
    "        'Accuracy': accuracy_score(y_true, y_pred),\n",
    "        'Precision': precision_score(y_true, y_pred),\n",
    "        'Recall': recall_score(y_true, y_pred),\n",
    "        'F1 Score': f1_score(y_true, y_pred)\n",
    "    }\n",
    "\n",
    "metrics_bernoulli = performance_metrics(y_test, y_pred_bernoulli)\n",
    "metrics_multinomial = performance_metrics(y_test, y_pred_multinomial)\n",
    "metrics_gaussian = performance_metrics(y_test, y_pred_gaussian)\n",
    "\n",
    "metrics_bernoulli, metrics_multinomial, metrics_gaussian\n"
   ]
  },
  {
   "cell_type": "code",
   "execution_count": null,
   "id": "67bc7413-6dca-4322-86bb-80541c7b8478",
   "metadata": {},
   "outputs": [],
   "source": []
  }
 ],
 "metadata": {
  "kernelspec": {
   "display_name": "Python 3 (ipykernel)",
   "language": "python",
   "name": "python3"
  },
  "language_info": {
   "codemirror_mode": {
    "name": "ipython",
    "version": 3
   },
   "file_extension": ".py",
   "mimetype": "text/x-python",
   "name": "python",
   "nbconvert_exporter": "python",
   "pygments_lexer": "ipython3",
   "version": "3.10.8"
  }
 },
 "nbformat": 4,
 "nbformat_minor": 5
}
